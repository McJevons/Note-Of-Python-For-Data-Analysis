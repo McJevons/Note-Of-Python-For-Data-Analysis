{
 "cells": [
  {
   "cell_type": "markdown",
   "metadata": {},
   "source": [
    "## 1. 使用分组值填充缺失值\n",
    "- 对于有缺失值的数据，可以使用`fillna()`使用指定的数据去填充缺失值\n",
    "- 对于分组后的各组数据里的缺失值，如果需要使用与所属分组有关的数据来填充缺失值，可以使用`apply()`调用一个填充缺失值功能的函数来处理\n",
    "- 也可以使用指定的值去填充不同分组的缺失值"
   ]
  },
  {
   "cell_type": "code",
   "execution_count": 1,
   "metadata": {},
   "outputs": [],
   "source": [
    "import numpy as np\n",
    "import pandas as pd"
   ]
  },
  {
   "cell_type": "code",
   "execution_count": 2,
   "metadata": {},
   "outputs": [
    {
     "data": {
      "text/plain": [
       "0   -1.038213\n",
       "1    1.489871\n",
       "2         NaN\n",
       "3    1.298391\n",
       "4   -1.187405\n",
       "5         NaN\n",
       "6    0.309498\n",
       "7    0.067049\n",
       "8         NaN\n",
       "9         NaN\n",
       "dtype: float64"
      ]
     },
     "execution_count": 2,
     "metadata": {},
     "output_type": "execute_result"
    }
   ],
   "source": [
    "s=pd.Series(np.random.randn(10))\n",
    "s[[2,5,8,9]]=np.nan\n",
    "s"
   ]
  },
  {
   "cell_type": "code",
   "execution_count": 3,
   "metadata": {},
   "outputs": [
    {
     "data": {
      "text/plain": [
       "0   -1.038213\n",
       "1    1.489871\n",
       "2    0.156532\n",
       "3    1.298391\n",
       "4   -1.187405\n",
       "5    0.156532\n",
       "6    0.309498\n",
       "7    0.067049\n",
       "8    0.156532\n",
       "9    0.156532\n",
       "dtype: float64"
      ]
     },
     "execution_count": 3,
     "metadata": {},
     "output_type": "execute_result"
    }
   ],
   "source": [
    "# 使用平均值填充所有缺失值\n",
    "s.fillna(s.mean())"
   ]
  },
  {
   "cell_type": "code",
   "execution_count": 4,
   "metadata": {},
   "outputs": [
    {
     "data": {
      "text/html": [
       "<div>\n",
       "<style scoped>\n",
       "    .dataframe tbody tr th:only-of-type {\n",
       "        vertical-align: middle;\n",
       "    }\n",
       "\n",
       "    .dataframe tbody tr th {\n",
       "        vertical-align: top;\n",
       "    }\n",
       "\n",
       "    .dataframe thead th {\n",
       "        text-align: right;\n",
       "    }\n",
       "</style>\n",
       "<table border=\"1\" class=\"dataframe\">\n",
       "  <thead>\n",
       "    <tr style=\"text-align: right;\">\n",
       "      <th></th>\n",
       "      <th>mean</th>\n",
       "      <th>count</th>\n",
       "      <th>sum</th>\n",
       "    </tr>\n",
       "  </thead>\n",
       "  <tbody>\n",
       "    <tr>\n",
       "      <th>偶数</th>\n",
       "      <td>-0.638707</td>\n",
       "      <td>3</td>\n",
       "      <td>-1.916120</td>\n",
       "    </tr>\n",
       "    <tr>\n",
       "      <th>奇数</th>\n",
       "      <td>0.951770</td>\n",
       "      <td>3</td>\n",
       "      <td>2.855311</td>\n",
       "    </tr>\n",
       "  </tbody>\n",
       "</table>\n",
       "</div>"
      ],
      "text/plain": [
       "        mean  count       sum\n",
       "偶数 -0.638707      3 -1.916120\n",
       "奇数  0.951770      3  2.855311"
      ]
     },
     "execution_count": 4,
     "metadata": {},
     "output_type": "execute_result"
    }
   ],
   "source": [
    "# 对数据根据索引进行奇偶分组\n",
    "f=lambda x:'偶数' if x%2==0 else '奇数'\n",
    "s.groupby(f).agg(['mean','count','sum'])"
   ]
  },
  {
   "cell_type": "code",
   "execution_count": 5,
   "metadata": {},
   "outputs": [
    {
     "data": {
      "text/plain": [
       "0   -1.038213\n",
       "1    1.489871\n",
       "2   -0.638707\n",
       "3    1.298391\n",
       "4   -1.187405\n",
       "5    0.951770\n",
       "6    0.309498\n",
       "7    0.067049\n",
       "8   -0.638707\n",
       "9    0.951770\n",
       "dtype: float64"
      ]
     },
     "execution_count": 5,
     "metadata": {},
     "output_type": "execute_result"
    }
   ],
   "source": [
    "# fillna_s：使用传入的数据的平均值来填充数据的缺失值\n",
    "def fillna_s(x):\n",
    "    return x.fillna(x.mean())\n",
    "\n",
    "# 使用apply，将groupby后的每个分组分别传给fillna_s函数\n",
    "# 即使用每个分组的平均值来填充该分组的缺失值\n",
    "s.groupby(f).apply(fillna_s)"
   ]
  },
  {
   "cell_type": "code",
   "execution_count": 6,
   "metadata": {},
   "outputs": [
    {
     "data": {
      "text/plain": [
       "0    -1.038213\n",
       "1     1.489871\n",
       "2    88.000000\n",
       "3     1.298391\n",
       "4    -1.187405\n",
       "5    99.000000\n",
       "6     0.309498\n",
       "7     0.067049\n",
       "8    88.000000\n",
       "9    99.000000\n",
       "dtype: float64"
      ]
     },
     "execution_count": 6,
     "metadata": {},
     "output_type": "execute_result"
    }
   ],
   "source": [
    "# 为每个分组指定不同的缺失值\n",
    "fill_value={'奇数':99,'偶数':88}\n",
    "fna=lambda x:x.fillna(fill_value[x.name])\n",
    "s.groupby(f).apply(fna)"
   ]
  },
  {
   "cell_type": "markdown",
   "metadata": {},
   "source": [
    "## 2.随机采样\n",
    "目的：建立一副52张牌的扑克，每个花色随机抽取5张"
   ]
  },
  {
   "cell_type": "code",
   "execution_count": 26,
   "metadata": {},
   "outputs": [
    {
     "data": {
      "text/plain": [
       "A桃      A\n",
       "2桃      2\n",
       "3桃      3\n",
       "4桃      4\n",
       "5桃      5\n",
       "6桃      6\n",
       "7桃      7\n",
       "8桃      8\n",
       "9桃      9\n",
       "10桃    10\n",
       "J桃      J\n",
       "Q桃      Q\n",
       "K桃      K\n",
       "dtype: object"
      ]
     },
     "execution_count": 26,
     "metadata": {},
     "output_type": "execute_result"
    }
   ],
   "source": [
    "card_suits=list('桃杏梅方')\n",
    "card_letter={1:'A',11:'J',12:'Q',13:'K'}\n",
    "# 建立A~K共13个字符格式的牌面值组成的列表\n",
    "card_num=[card_letter[x] if x==1 or x>10 else str(x) for x in np.arange(1,14)]\n",
    "cards=[]\n",
    "# 建立4种花色共52张牌的列表\n",
    "for suit in card_suits:\n",
    "    cards.extend([num+suit for num in card_num])\n",
    "cards=pd.Series(card_num*4,index=cards)\n",
    "cards[:13]"
   ]
  },
  {
   "cell_type": "code",
   "execution_count": 46,
   "metadata": {},
   "outputs": [
    {
     "data": {
      "text/plain": [
       "5杏    5\n",
       "9杏    9\n",
       "8方    8\n",
       "7杏    7\n",
       "7方    7\n",
       "dtype: object"
      ]
     },
     "execution_count": 46,
     "metadata": {},
     "output_type": "execute_result"
    }
   ],
   "source": [
    "# 随机获取5张牌\n",
    "def draw(cards,n=5):\n",
    "    return cards.sample(n)\n",
    "draw(cards)"
   ]
  },
  {
   "cell_type": "code",
   "execution_count": 39,
   "metadata": {},
   "outputs": [
    {
     "data": {
      "text/plain": [
       "方  A方      A\n",
       "   10方    10\n",
       "   Q方      Q\n",
       "   3方      3\n",
       "   K方      K\n",
       "杏  4杏      4\n",
       "   A杏      A\n",
       "   9杏      9\n",
       "   Q杏      Q\n",
       "   K杏      K\n",
       "桃  Q桃      Q\n",
       "   K桃      K\n",
       "   8桃      8\n",
       "   2桃      2\n",
       "   J桃      J\n",
       "梅  A梅      A\n",
       "   5梅      5\n",
       "   3梅      3\n",
       "   9梅      9\n",
       "   7梅      7\n",
       "dtype: object"
      ]
     },
     "execution_count": 39,
     "metadata": {},
     "output_type": "execute_result"
    }
   ],
   "source": [
    "# groupby()里的函数是对索引进行处理的\n",
    "# 根据索引的最后字符即花色进行分组，将每个分组代入draw()中随机抽取5张牌\n",
    "cards.groupby(lambda x:x[-1]).apply(draw,5)"
   ]
  },
  {
   "cell_type": "code",
   "execution_count": 58,
   "metadata": {},
   "outputs": [
    {
     "data": {
      "text/plain": [
       "Index(['4桃', '4杏', '3方', '8桃', '10桃', 'K梅', '9桃', '5方', '5梅', 'Q杏', '4梅', 'J杏',\n",
       "       '2梅'],\n",
       "      dtype='object')"
      ]
     },
     "execution_count": 58,
     "metadata": {},
     "output_type": "execute_result"
    }
   ],
   "source": [
    "used_cards=draw(cards,13).index\n",
    "used_cards"
   ]
  },
  {
   "cell_type": "code",
   "execution_count": 56,
   "metadata": {},
   "outputs": [
    {
     "data": {
      "text/plain": [
       "Index(['A桃', '2桃', '3桃', '4桃', '5桃', '6桃', '7桃', '8桃', '9桃', '10桃', 'J桃', 'Q桃',\n",
       "       'K桃', 'A杏', '2杏', '3杏', '4杏', '5杏', '6杏', '7杏', '8杏', '9杏', '10杏', 'J杏',\n",
       "       'Q杏', 'K杏', 'A梅', '2梅', '3梅', '4梅', '5梅', '6梅', '7梅', '8梅', '9梅', '10梅',\n",
       "       'J梅', 'Q梅', 'K梅', 'A方', '2方', '3方', '4方', '5方', '6方', '7方', '8方', '9方',\n",
       "       '10方', 'J方', 'Q方', 'K方'],\n",
       "      dtype='object')"
      ]
     },
     "execution_count": 56,
     "metadata": {},
     "output_type": "execute_result"
    }
   ],
   "source": [
    "cards.index"
   ]
  },
  {
   "cell_type": "code",
   "execution_count": 77,
   "metadata": {},
   "outputs": [
    {
     "data": {
      "text/plain": [
       "A桃      A\n",
       "2桃      2\n",
       "3桃      3\n",
       "5桃      5\n",
       "6桃      6\n",
       "7桃      7\n",
       "J桃      J\n",
       "Q桃      Q\n",
       "K桃      K\n",
       "A杏      A\n",
       "2杏      2\n",
       "3杏      3\n",
       "5杏      5\n",
       "6杏      6\n",
       "7杏      7\n",
       "8杏      8\n",
       "9杏      9\n",
       "10杏    10\n",
       "K杏      K\n",
       "A梅      A\n",
       "3梅      3\n",
       "6梅      6\n",
       "7梅      7\n",
       "8梅      8\n",
       "9梅      9\n",
       "10梅    10\n",
       "J梅      J\n",
       "Q梅      Q\n",
       "A方      A\n",
       "2方      2\n",
       "4方      4\n",
       "6方      6\n",
       "7方      7\n",
       "8方      8\n",
       "9方      9\n",
       "10方    10\n",
       "J方      J\n",
       "Q方      Q\n",
       "K方      K\n",
       "dtype: object"
      ]
     },
     "execution_count": 77,
     "metadata": {},
     "output_type": "execute_result"
    }
   ],
   "source": [
    "cards[~cards.index.isin(used_cards)]"
   ]
  },
  {
   "cell_type": "code",
   "execution_count": null,
   "metadata": {},
   "outputs": [],
   "source": []
  }
 ],
 "metadata": {
  "kernelspec": {
   "display_name": "Python 3",
   "language": "python",
   "name": "python3"
  },
  "language_info": {
   "codemirror_mode": {
    "name": "ipython",
    "version": 3
   },
   "file_extension": ".py",
   "mimetype": "text/x-python",
   "name": "python",
   "nbconvert_exporter": "python",
   "pygments_lexer": "ipython3",
   "version": "3.7.0"
  }
 },
 "nbformat": 4,
 "nbformat_minor": 2
}
