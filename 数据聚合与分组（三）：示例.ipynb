{
 "cells": [
  {
   "cell_type": "markdown",
   "metadata": {},
   "source": [
    "## 1. 使用分组值填充缺失值\n",
    "- 对于有缺失值的数据，可以使用`fillna()`使用指定的数据去填充缺失值\n",
    "- 对于分组后的各组数据里的缺失值，如果需要使用与所属分组有关的数据来填充缺失值，可以使用`apply()`调用一个填充缺失值功能的函数来处理\n",
    "- 也可以使用指定的值去填充不同分组的缺失值"
   ]
  },
  {
   "cell_type": "code",
   "execution_count": 1,
   "metadata": {},
   "outputs": [],
   "source": [
    "import numpy as np\n",
    "import pandas as pd"
   ]
  },
  {
   "cell_type": "code",
   "execution_count": 23,
   "metadata": {},
   "outputs": [
    {
     "data": {
      "text/plain": [
       "0    1.094452\n",
       "1   -0.076350\n",
       "2         NaN\n",
       "3    0.628606\n",
       "4   -1.254278\n",
       "5         NaN\n",
       "6    0.866847\n",
       "7    0.010724\n",
       "8         NaN\n",
       "9         NaN\n",
       "dtype: float64"
      ]
     },
     "execution_count": 23,
     "metadata": {},
     "output_type": "execute_result"
    }
   ],
   "source": [
    "s=pd.Series(np.random.randn(10))\n",
    "s[[2,5,8,9]]=np.nan\n",
    "s"
   ]
  },
  {
   "cell_type": "code",
   "execution_count": 24,
   "metadata": {},
   "outputs": [
    {
     "data": {
      "text/plain": [
       "0    1.094452\n",
       "1   -0.076350\n",
       "2    0.211667\n",
       "3    0.628606\n",
       "4   -1.254278\n",
       "5    0.211667\n",
       "6    0.866847\n",
       "7    0.010724\n",
       "8    0.211667\n",
       "9    0.211667\n",
       "dtype: float64"
      ]
     },
     "execution_count": 24,
     "metadata": {},
     "output_type": "execute_result"
    }
   ],
   "source": [
    "# 使用平均值填充所有缺失值\n",
    "s.fillna(s.mean())"
   ]
  },
  {
   "cell_type": "code",
   "execution_count": 25,
   "metadata": {},
   "outputs": [
    {
     "data": {
      "text/html": [
       "<div>\n",
       "<style scoped>\n",
       "    .dataframe tbody tr th:only-of-type {\n",
       "        vertical-align: middle;\n",
       "    }\n",
       "\n",
       "    .dataframe tbody tr th {\n",
       "        vertical-align: top;\n",
       "    }\n",
       "\n",
       "    .dataframe thead th {\n",
       "        text-align: right;\n",
       "    }\n",
       "</style>\n",
       "<table border=\"1\" class=\"dataframe\">\n",
       "  <thead>\n",
       "    <tr style=\"text-align: right;\">\n",
       "      <th></th>\n",
       "      <th>mean</th>\n",
       "      <th>count</th>\n",
       "      <th>sum</th>\n",
       "    </tr>\n",
       "  </thead>\n",
       "  <tbody>\n",
       "    <tr>\n",
       "      <th>偶数</th>\n",
       "      <td>0.235674</td>\n",
       "      <td>3</td>\n",
       "      <td>0.707021</td>\n",
       "    </tr>\n",
       "    <tr>\n",
       "      <th>奇数</th>\n",
       "      <td>0.187660</td>\n",
       "      <td>3</td>\n",
       "      <td>0.562980</td>\n",
       "    </tr>\n",
       "  </tbody>\n",
       "</table>\n",
       "</div>"
      ],
      "text/plain": [
       "        mean  count       sum\n",
       "偶数  0.235674      3  0.707021\n",
       "奇数  0.187660      3  0.562980"
      ]
     },
     "execution_count": 25,
     "metadata": {},
     "output_type": "execute_result"
    }
   ],
   "source": [
    "# 对数据根据索引进行奇偶分组\n",
    "f=lambda x:'偶数' if x%2==0 else '奇数'\n",
    "s.groupby(f).agg(['mean','count','sum'])"
   ]
  },
  {
   "cell_type": "code",
   "execution_count": 26,
   "metadata": {},
   "outputs": [
    {
     "data": {
      "text/plain": [
       "0    1.094452\n",
       "1   -0.076350\n",
       "2    0.235674\n",
       "3    0.628606\n",
       "4   -1.254278\n",
       "5    0.187660\n",
       "6    0.866847\n",
       "7    0.010724\n",
       "8    0.235674\n",
       "9    0.187660\n",
       "dtype: float64"
      ]
     },
     "execution_count": 26,
     "metadata": {},
     "output_type": "execute_result"
    }
   ],
   "source": [
    "# fillna_s：使用传入的数据的平均值来填充数据的缺失值\n",
    "def fillna_s(x):\n",
    "    return x.fillna(x.mean())\n",
    "\n",
    "# 使用apply，将groupby后的每个分组分别传给fillna_s函数\n",
    "# 即使用每个分组的平均值来填充该分组的缺失值\n",
    "s.groupby(f).apply(fillna_s)"
   ]
  },
  {
   "cell_type": "code",
   "execution_count": 30,
   "metadata": {},
   "outputs": [
    {
     "data": {
      "text/plain": [
       "0     1.094452\n",
       "1    -0.076350\n",
       "2    88.000000\n",
       "3     0.628606\n",
       "4    -1.254278\n",
       "5    99.000000\n",
       "6     0.866847\n",
       "7     0.010724\n",
       "8    88.000000\n",
       "9    99.000000\n",
       "dtype: float64"
      ]
     },
     "execution_count": 30,
     "metadata": {},
     "output_type": "execute_result"
    }
   ],
   "source": [
    "# 为每个分组指定不同的缺失值\n",
    "fill_value={'奇数':99,'偶数':88}\n",
    "fna=lambda x:x.fillna(fill_value[x.name])\n",
    "s.groupby(f).apply(fna)"
   ]
  },
  {
   "cell_type": "code",
   "execution_count": null,
   "metadata": {},
   "outputs": [],
   "source": []
  },
  {
   "cell_type": "code",
   "execution_count": 59,
   "metadata": {},
   "outputs": [],
   "source": [
    "card_type=list('桃杏梅方')"
   ]
  },
  {
   "cell_type": "code",
   "execution_count": 75,
   "metadata": {},
   "outputs": [
    {
     "data": {
      "text/plain": [
       "['A', '2', '3', '4', '5', '6', '7', '8', '9', '10', 'J', 'Q', 'K']"
      ]
     },
     "execution_count": 75,
     "metadata": {},
     "output_type": "execute_result"
    }
   ],
   "source": [
    "card_letter={1:'A',11:'J',12:'Q',13:'K'}\n",
    "card_num=[card_letter[x] if x==1 or x>10 else str(x) for x in np.arange(1,14)]\n",
    "card_num"
   ]
  },
  {
   "cell_type": "code",
   "execution_count": 81,
   "metadata": {},
   "outputs": [
    {
     "data": {
      "text/html": [
       "<div>\n",
       "<style scoped>\n",
       "    .dataframe tbody tr th:only-of-type {\n",
       "        vertical-align: middle;\n",
       "    }\n",
       "\n",
       "    .dataframe tbody tr th {\n",
       "        vertical-align: top;\n",
       "    }\n",
       "\n",
       "    .dataframe thead th {\n",
       "        text-align: right;\n",
       "    }\n",
       "</style>\n",
       "<table border=\"1\" class=\"dataframe\">\n",
       "  <thead>\n",
       "    <tr style=\"text-align: right;\">\n",
       "      <th></th>\n",
       "      <th>1</th>\n",
       "      <th>2</th>\n",
       "      <th>3</th>\n",
       "      <th>4</th>\n",
       "      <th>5</th>\n",
       "      <th>6</th>\n",
       "      <th>7</th>\n",
       "      <th>8</th>\n",
       "      <th>9</th>\n",
       "      <th>10</th>\n",
       "      <th>11</th>\n",
       "      <th>12</th>\n",
       "      <th>13</th>\n",
       "    </tr>\n",
       "  </thead>\n",
       "  <tbody>\n",
       "    <tr>\n",
       "      <th>桃</th>\n",
       "      <td>A</td>\n",
       "      <td>2</td>\n",
       "      <td>3</td>\n",
       "      <td>4</td>\n",
       "      <td>5</td>\n",
       "      <td>6</td>\n",
       "      <td>7</td>\n",
       "      <td>8</td>\n",
       "      <td>9</td>\n",
       "      <td>10</td>\n",
       "      <td>J</td>\n",
       "      <td>Q</td>\n",
       "      <td>K</td>\n",
       "    </tr>\n",
       "    <tr>\n",
       "      <th>杏</th>\n",
       "      <td>A</td>\n",
       "      <td>2</td>\n",
       "      <td>3</td>\n",
       "      <td>4</td>\n",
       "      <td>5</td>\n",
       "      <td>6</td>\n",
       "      <td>7</td>\n",
       "      <td>8</td>\n",
       "      <td>9</td>\n",
       "      <td>10</td>\n",
       "      <td>J</td>\n",
       "      <td>Q</td>\n",
       "      <td>K</td>\n",
       "    </tr>\n",
       "    <tr>\n",
       "      <th>梅</th>\n",
       "      <td>A</td>\n",
       "      <td>2</td>\n",
       "      <td>3</td>\n",
       "      <td>4</td>\n",
       "      <td>5</td>\n",
       "      <td>6</td>\n",
       "      <td>7</td>\n",
       "      <td>8</td>\n",
       "      <td>9</td>\n",
       "      <td>10</td>\n",
       "      <td>J</td>\n",
       "      <td>Q</td>\n",
       "      <td>K</td>\n",
       "    </tr>\n",
       "    <tr>\n",
       "      <th>方</th>\n",
       "      <td>A</td>\n",
       "      <td>2</td>\n",
       "      <td>3</td>\n",
       "      <td>4</td>\n",
       "      <td>5</td>\n",
       "      <td>6</td>\n",
       "      <td>7</td>\n",
       "      <td>8</td>\n",
       "      <td>9</td>\n",
       "      <td>10</td>\n",
       "      <td>J</td>\n",
       "      <td>Q</td>\n",
       "      <td>K</td>\n",
       "    </tr>\n",
       "  </tbody>\n",
       "</table>\n",
       "</div>"
      ],
      "text/plain": [
       "  1  2  3  4  5  6  7  8  9   10 11 12 13\n",
       "桃  A  2  3  4  5  6  7  8  9  10  J  Q  K\n",
       "杏  A  2  3  4  5  6  7  8  9  10  J  Q  K\n",
       "梅  A  2  3  4  5  6  7  8  9  10  J  Q  K\n",
       "方  A  2  3  4  5  6  7  8  9  10  J  Q  K"
      ]
     },
     "execution_count": 81,
     "metadata": {},
     "output_type": "execute_result"
    }
   ],
   "source": [
    "cards=pd.DataFrame(np.array(card_num*4).reshape(4,13),index=card_type,columns=np.arange(1,14))\n",
    "cards"
   ]
  },
  {
   "cell_type": "code",
   "execution_count": 97,
   "metadata": {},
   "outputs": [],
   "source": [
    "cards=cards.apply(lambda card:card+card.index)"
   ]
  },
  {
   "cell_type": "code",
   "execution_count": 98,
   "metadata": {},
   "outputs": [
    {
     "data": {
      "text/html": [
       "<div>\n",
       "<style scoped>\n",
       "    .dataframe tbody tr th:only-of-type {\n",
       "        vertical-align: middle;\n",
       "    }\n",
       "\n",
       "    .dataframe tbody tr th {\n",
       "        vertical-align: top;\n",
       "    }\n",
       "\n",
       "    .dataframe thead th {\n",
       "        text-align: right;\n",
       "    }\n",
       "</style>\n",
       "<table border=\"1\" class=\"dataframe\">\n",
       "  <thead>\n",
       "    <tr style=\"text-align: right;\">\n",
       "      <th></th>\n",
       "      <th>1</th>\n",
       "      <th>2</th>\n",
       "      <th>3</th>\n",
       "      <th>4</th>\n",
       "      <th>5</th>\n",
       "      <th>6</th>\n",
       "      <th>7</th>\n",
       "      <th>8</th>\n",
       "      <th>9</th>\n",
       "      <th>10</th>\n",
       "      <th>11</th>\n",
       "      <th>12</th>\n",
       "      <th>13</th>\n",
       "    </tr>\n",
       "  </thead>\n",
       "  <tbody>\n",
       "    <tr>\n",
       "      <th>桃</th>\n",
       "      <td>A桃</td>\n",
       "      <td>2桃</td>\n",
       "      <td>3桃</td>\n",
       "      <td>4桃</td>\n",
       "      <td>5桃</td>\n",
       "      <td>6桃</td>\n",
       "      <td>7桃</td>\n",
       "      <td>8桃</td>\n",
       "      <td>9桃</td>\n",
       "      <td>10桃</td>\n",
       "      <td>J桃</td>\n",
       "      <td>Q桃</td>\n",
       "      <td>K桃</td>\n",
       "    </tr>\n",
       "    <tr>\n",
       "      <th>杏</th>\n",
       "      <td>A杏</td>\n",
       "      <td>2杏</td>\n",
       "      <td>3杏</td>\n",
       "      <td>4杏</td>\n",
       "      <td>5杏</td>\n",
       "      <td>6杏</td>\n",
       "      <td>7杏</td>\n",
       "      <td>8杏</td>\n",
       "      <td>9杏</td>\n",
       "      <td>10杏</td>\n",
       "      <td>J杏</td>\n",
       "      <td>Q杏</td>\n",
       "      <td>K杏</td>\n",
       "    </tr>\n",
       "    <tr>\n",
       "      <th>梅</th>\n",
       "      <td>A梅</td>\n",
       "      <td>2梅</td>\n",
       "      <td>3梅</td>\n",
       "      <td>4梅</td>\n",
       "      <td>5梅</td>\n",
       "      <td>6梅</td>\n",
       "      <td>7梅</td>\n",
       "      <td>8梅</td>\n",
       "      <td>9梅</td>\n",
       "      <td>10梅</td>\n",
       "      <td>J梅</td>\n",
       "      <td>Q梅</td>\n",
       "      <td>K梅</td>\n",
       "    </tr>\n",
       "    <tr>\n",
       "      <th>方</th>\n",
       "      <td>A方</td>\n",
       "      <td>2方</td>\n",
       "      <td>3方</td>\n",
       "      <td>4方</td>\n",
       "      <td>5方</td>\n",
       "      <td>6方</td>\n",
       "      <td>7方</td>\n",
       "      <td>8方</td>\n",
       "      <td>9方</td>\n",
       "      <td>10方</td>\n",
       "      <td>J方</td>\n",
       "      <td>Q方</td>\n",
       "      <td>K方</td>\n",
       "    </tr>\n",
       "  </tbody>\n",
       "</table>\n",
       "</div>"
      ],
      "text/plain": [
       "   1   2   3   4   5   6   7   8   9    10  11  12  13\n",
       "桃  A桃  2桃  3桃  4桃  5桃  6桃  7桃  8桃  9桃  10桃  J桃  Q桃  K桃\n",
       "杏  A杏  2杏  3杏  4杏  5杏  6杏  7杏  8杏  9杏  10杏  J杏  Q杏  K杏\n",
       "梅  A梅  2梅  3梅  4梅  5梅  6梅  7梅  8梅  9梅  10梅  J梅  Q梅  K梅\n",
       "方  A方  2方  3方  4方  5方  6方  7方  8方  9方  10方  J方  Q方  K方"
      ]
     },
     "execution_count": 98,
     "metadata": {},
     "output_type": "execute_result"
    }
   ],
   "source": [
    "cards"
   ]
  },
  {
   "cell_type": "code",
   "execution_count": 102,
   "metadata": {},
   "outputs": [
    {
     "data": {
      "text/html": [
       "<div>\n",
       "<style scoped>\n",
       "    .dataframe tbody tr th:only-of-type {\n",
       "        vertical-align: middle;\n",
       "    }\n",
       "\n",
       "    .dataframe tbody tr th {\n",
       "        vertical-align: top;\n",
       "    }\n",
       "\n",
       "    .dataframe thead th {\n",
       "        text-align: right;\n",
       "    }\n",
       "</style>\n",
       "<table border=\"1\" class=\"dataframe\">\n",
       "  <thead>\n",
       "    <tr style=\"text-align: right;\">\n",
       "      <th></th>\n",
       "      <th>13</th>\n",
       "      <th>7</th>\n",
       "      <th>12</th>\n",
       "      <th>5</th>\n",
       "      <th>3</th>\n",
       "    </tr>\n",
       "  </thead>\n",
       "  <tbody>\n",
       "    <tr>\n",
       "      <th>桃</th>\n",
       "      <td>K桃</td>\n",
       "      <td>7桃</td>\n",
       "      <td>Q桃</td>\n",
       "      <td>5桃</td>\n",
       "      <td>3桃</td>\n",
       "    </tr>\n",
       "    <tr>\n",
       "      <th>杏</th>\n",
       "      <td>K杏</td>\n",
       "      <td>7杏</td>\n",
       "      <td>Q杏</td>\n",
       "      <td>5杏</td>\n",
       "      <td>3杏</td>\n",
       "    </tr>\n",
       "    <tr>\n",
       "      <th>梅</th>\n",
       "      <td>K梅</td>\n",
       "      <td>7梅</td>\n",
       "      <td>Q梅</td>\n",
       "      <td>5梅</td>\n",
       "      <td>3梅</td>\n",
       "    </tr>\n",
       "    <tr>\n",
       "      <th>方</th>\n",
       "      <td>K方</td>\n",
       "      <td>7方</td>\n",
       "      <td>Q方</td>\n",
       "      <td>5方</td>\n",
       "      <td>3方</td>\n",
       "    </tr>\n",
       "  </tbody>\n",
       "</table>\n",
       "</div>"
      ],
      "text/plain": [
       "   13  7   12  5   3 \n",
       "桃  K桃  7桃  Q桃  5桃  3桃\n",
       "杏  K杏  7杏  Q杏  5杏  3杏\n",
       "梅  K梅  7梅  Q梅  5梅  3梅\n",
       "方  K方  7方  Q方  5方  3方"
      ]
     },
     "execution_count": 102,
     "metadata": {},
     "output_type": "execute_result"
    }
   ],
   "source": [
    "cards.sample(5,axis=1)"
   ]
  },
  {
   "cell_type": "code",
   "execution_count": 108,
   "metadata": {},
   "outputs": [
    {
     "data": {
      "text/plain": [
       "1      A梅\n",
       "2      2梅\n",
       "3      3梅\n",
       "4      4梅\n",
       "5      5梅\n",
       "6      6梅\n",
       "7      7梅\n",
       "8      8梅\n",
       "9      9梅\n",
       "10    10梅\n",
       "11     J梅\n",
       "12     Q梅\n",
       "13     K梅\n",
       "Name: 梅, dtype: object"
      ]
     },
     "execution_count": 108,
     "metadata": {},
     "output_type": "execute_result"
    }
   ],
   "source": [
    "cards.loc['梅']"
   ]
  },
  {
   "cell_type": "code",
   "execution_count": 109,
   "metadata": {},
   "outputs": [
    {
     "name": "stdout",
     "output_type": "stream",
     "text": [
      "6桃\n",
      "7方\n",
      "J方\n",
      "6桃\n",
      "4梅\n",
      "4方\n",
      "3杏\n",
      "A杏\n",
      "8梅\n",
      "A梅\n"
     ]
    }
   ],
   "source": [
    "for x in np.arange(10):\n",
    "    num=np.random.randint(1,13)\n",
    "    t=card_type[np.random.randint(4)]\n",
    "    print(cards.loc[t,num])"
   ]
  },
  {
   "cell_type": "code",
   "execution_count": null,
   "metadata": {},
   "outputs": [],
   "source": []
  }
 ],
 "metadata": {
  "kernelspec": {
   "display_name": "Python 3",
   "language": "python",
   "name": "python3"
  },
  "language_info": {
   "codemirror_mode": {
    "name": "ipython",
    "version": 3
   },
   "file_extension": ".py",
   "mimetype": "text/x-python",
   "name": "python",
   "nbconvert_exporter": "python",
   "pygments_lexer": "ipython3",
   "version": "3.7.0"
  }
 },
 "nbformat": 4,
 "nbformat_minor": 2
}
